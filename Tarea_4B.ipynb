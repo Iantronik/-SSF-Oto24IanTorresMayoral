{
  "nbformat": 4,
  "nbformat_minor": 0,
  "metadata": {
    "colab": {
      "provenance": []
    },
    "kernelspec": {
      "name": "python3",
      "display_name": "Python 3"
    },
    "language_info": {
      "name": "python"
    }
  },
  "cells": [
    {
      "cell_type": "markdown",
      "source": [
        "# **Integración numérica 2B |\n",
        "\n",
        "*   Elemento de lista\n",
        "*   Elemento de lista\n",
        "\n",
        "\n",
        "\n"
      ],
      "metadata": {
        "id": "3HE3ey2BQDm8"
      }
    },
    {
      "cell_type": "markdown",
      "source": [
        "#  **Ejercicio (a):**"
      ],
      "metadata": {
        "id": "xZBJ8T7W_lhy"
      }
    },
    {
      "cell_type": "code",
      "source": [],
      "metadata": {
        "id": "fxxkF0R7wrqd"
      },
      "execution_count": null,
      "outputs": []
    },
    {
      "cell_type": "code",
      "source": [
        "# Inciso a)\n",
        "%matplotlib inline\n",
        "import numpy as np\n",
        "from sympy import*\n",
        "x=Symbol ('x')\n",
        "f= exp(x**2)\n",
        "plot (f,(x,-2,2))"
      ],
      "metadata": {
        "colab": {
          "base_uri": "https://localhost:8080/",
          "height": 503
        },
        "id": "cxvSnNDuVf1W",
        "outputId": "d029607b-2ca9-4a2e-f143-a7477f113835"
      },
      "execution_count": null,
      "outputs": [
        {
          "output_type": "display_data",
          "data": {
            "text/plain": [
              "<Figure size 640x480 with 1 Axes>"
            ],
            "image/png": "[encoded data removed]"
          },
          "metadata": {}
        },
        {
          "output_type": "execute_result",
          "data": {
            "text/plain": [
              "<sympy.plotting.plot.Plot at 0x7a6c46f54850>"
            ]
          },
          "metadata": {},
          "execution_count": 1
        }
      ]
    },
    {
      "cell_type": "markdown",
      "source": [
        "Como podemos ver en la grafica, la funcion es simétrica y no acotada. Por lo tanto, el valor de la integral\n",
        "depende de su intervalo $[0,L]$ , es decir, el valor aumentará o disminuirá si $L$ aumenta o disminuye."
      ],
      "metadata": {
        "id": "D76FYqMFV232"
      }
    },
    {
      "cell_type": "code",
      "source": [
        "# Inciso a) Usando scipy en el intervalo [0, 2]\n",
        "from scipy.integrate import quad\n",
        "import numpy as np\n",
        "fun = lambda x: (np.exp(x**2))*2\n",
        "quad(fun, 0, 2)"
      ],
      "metadata": {
        "colab": {
          "base_uri": "https://localhost:8080/"
        },
        "id": "V_DwY5TiWOOl",
        "outputId": "b6512b93-6d96-473c-e301-553b531a9d5c"
      },
      "execution_count": null,
      "outputs": [
        {
          "output_type": "execute_result",
          "data": {
            "text/plain": [
              "(32.90525553101446, 3.064872265960067e-11)"
            ]
          },
          "metadata": {},
          "execution_count": 2
        }
      ]
    },
    {
      "cell_type": "code",
      "source": [
        "# Inciso a) Usando scipy en el intervalo [0, 3]\n",
        "from scipy.integrate import quad\n",
        "import numpy as np\n",
        "fun = lambda x: (np.exp(x**2))*2\n",
        "quad(fun, 0, 3)"
      ],
      "metadata": {
        "colab": {
          "base_uri": "https://localhost:8080/"
        },
        "id": "m6HGnY3QWT4o",
        "outputId": "083dd70b-f1dc-42a3-d69a-7f10ccdafc50"
      },
      "execution_count": null,
      "outputs": [
        {
          "output_type": "execute_result",
          "data": {
            "text/plain": [
              "(2889.0902457854268, 1.4228746781069085e-09)"
            ]
          },
          "metadata": {},
          "execution_count": 3
        }
      ]
    },
    {
      "cell_type": "code",
      "source": [
        "# Inciso a) Usando Regla del Trapecio con 150 intervalos, en [0,1]\n",
        "import math\n",
        "def f(x):\n",
        "    return (math.exp(x**2))*2\n",
        "n = 150\n",
        "a = 0\n",
        "b = 2\n",
        "dx = (b-a)/n\n",
        "suma = 0\n",
        "for i in range(n):\n",
        "    area = (f(a) + f(a+dx))*dx/2\n",
        "    suma = suma + area\n",
        "    a = a + dx\n",
        "print (\"el area es\", suma)"
      ],
      "metadata": {
        "colab": {
          "base_uri": "https://localhost:8080/"
        },
        "id": "xDEpKFenWXEm",
        "outputId": "2b8126b0-dc9c-43a9-9644-cd57c1e05e9b"
      },
      "execution_count": null,
      "outputs": [
        {
          "output_type": "stream",
          "name": "stdout",
          "text": [
            "el area es 32.91172600111593\n"
          ]
        }
      ]
    },
    {
      "cell_type": "code",
      "source": [
        "# Inciso a) Usando Regla del Trapecio con 100000 intervalos, en [0, 3]\n",
        "def f(x):\n",
        "    return (math.exp(x**2))*2\n",
        "n = 100000\n",
        "a = 0\n",
        "b = 3\n",
        "dx = (b-a)/n\n",
        "suma = 0\n",
        "for i in range(n):\n",
        "    area = (f(a) + f(a+dx))*dx/2\n",
        "    suma = suma + area\n",
        "    a = a + dx\n",
        "print (\"el area es\", suma)"
      ],
      "metadata": {
        "colab": {
          "base_uri": "https://localhost:8080/"
        },
        "id": "WzKe7Y98Wd5J",
        "outputId": "b205926a-6c53-427c-ee02-90f2ee8469db"
      },
      "execution_count": null,
      "outputs": [
        {
          "output_type": "stream",
          "name": "stdout",
          "text": [
            "el area es 2889.090253141827\n"
          ]
        }
      ]
    },
    {
      "cell_type": "markdown",
      "source": [
        "# **Ejercicio (b):**"
      ],
      "metadata": {
        "id": "v0XbJX6yQ6ad"
      }
    },
    {
      "cell_type": "code",
      "source": [
        "import numpy as np\n",
        "import matplotlib.pyplot as plt\n",
        "import math\n",
        "x = np.array(range(1, 40))*0.025\n",
        "y= np.zeros(len(x))\n",
        "for i in range(len(x)):\n",
        "    y[i]=(1 / ((math.sqrt(x[i]))*((math.exp(x[i])) + 1)))\n",
        "plt.plot(x,y)\n",
        "plt.show()"
      ],
      "metadata": {
        "colab": {
          "base_uri": "https://localhost:8080/",
          "height": 430
        },
        "id": "VhfyShoVWmUT",
        "outputId": "8e878721-b388-4f7f-831a-328720b756ca"
      },
      "execution_count": null,
      "outputs": [
        {
          "output_type": "display_data",
          "data": {
            "text/plain": [
              "<Figure size 640x480 with 1 Axes>"
            ],
            "image/png": "[encoded data removed]"
          },
          "metadata": {}
        }
      ]
    },
    {
      "cell_type": "code",
      "source": [
        "# Integrando con scipy\n",
        "from scipy.integrate import quad\n",
        "import numpy as np\n",
        "fun = lambda x: (1 / ((np.sqrt(x))*((np.exp(x)) + 1)))\n",
        "quad(fun, 0, 1)"
      ],
      "metadata": {
        "colab": {
          "base_uri": "https://localhost:8080/"
        },
        "id": "4gQTQme1Ws5u",
        "outputId": "9abba6be-02af-4a82-fc0e-e6bb3f48eb61"
      },
      "execution_count": null,
      "outputs": [
        {
          "output_type": "execute_result",
          "data": {
            "text/plain": [
              "(0.8389329600133858, 2.0727863869751673e-13)"
            ]
          },
          "metadata": {},
          "execution_count": 8
        }
      ]
    },
    {
      "cell_type": "code",
      "source": [
        "# Integrando con Regla del Trapecio, con 50 intervalos\n",
        "def f(x):\n",
        "    return (1 / ((np.sqrt(x))*((np.exp(x)) + 1)))\n",
        "n = 50\n",
        "a = 0.001\n",
        "b = 1\n",
        "dx = (b-a)/n\n",
        "suma = 0\n",
        "for i in range(n):\n",
        "    area = (f(a) + f(a+dx))*dx/2\n",
        "    suma = suma + area\n",
        "    a = a + dx\n",
        "print (\"el area es\", suma)"
      ],
      "metadata": {
        "colab": {
          "base_uri": "https://localhost:8080/"
        },
        "id": "RLPDaZ0wW7Sk",
        "outputId": "4baf1bd8-2e7c-4970-bc9a-87f7bc69c74f"
      },
      "execution_count": null,
      "outputs": [
        {
          "output_type": "stream",
          "name": "stdout",
          "text": [
            "el area es 0.8892265580046664\n"
          ]
        }
      ]
    },
    {
      "cell_type": "markdown",
      "source": [
        "# **Ejercicio (c):**"
      ],
      "metadata": {
        "id": "_TBwbOc7FDss"
      }
    },
    {
      "cell_type": "code",
      "source": [
        "%matplotlib inline\n",
        "import numpy as np\n",
        "from sympy import*\n",
        "x=Symbol ('x')\n",
        "f= (x**7)*cos(x)\n",
        "plot (f,(x,0,1))"
      ],
      "metadata": {
        "colab": {
          "base_uri": "https://localhost:8080/",
          "height": 502
        },
        "id": "TXm8LUBtXHMf",
        "outputId": "1cb8df40-2d3d-4eec-b01e-2ebc8513c0c5"
      },
      "execution_count": null,
      "outputs": [
        {
          "output_type": "display_data",
          "data": {
            "text/plain": [
              "<Figure size 640x480 with 1 Axes>"
            ],
            "image/png": "[encoded data removed]"
          },
          "metadata": {}
        },
        {
          "output_type": "execute_result",
          "data": {
            "text/plain": [
              "<sympy.plotting.plot.Plot at 0x7a6c291a9c90>"
            ]
          },
          "metadata": {},
          "execution_count": 12
        }
      ]
    },
    {
      "cell_type": "code",
      "source": [
        "# Integrando con scipy\n",
        "from scipy.integrate import quad\n",
        "import numpy as np\n",
        "fun = lambda x: (x**7)*cos(x)\n",
        "quad(fun, 0, 1)"
      ],
      "metadata": {
        "colab": {
          "base_uri": "https://localhost:8080/"
        },
        "id": "X2Czwo6YXOL5",
        "outputId": "07ada185-b92a-4cc7-b2e0-054bf0a20a08"
      },
      "execution_count": null,
      "outputs": [
        {
          "output_type": "execute_result",
          "data": {
            "text/plain": [
              "(0.07837455076646482, 8.701323080558246e-16)"
            ]
          },
          "metadata": {},
          "execution_count": 13
        }
      ]
    },
    {
      "cell_type": "code",
      "source": [
        "# Integrando con Regla del Trapecio, con 50 intervalos\n",
        "def f(x):\n",
        "    return (x**7)*cos(x)\n",
        "n = 50\n",
        "a = 0.001\n",
        "b = 1\n",
        "dx = (b-a)/n\n",
        "suma = 0\n",
        "for i in range(n):\n",
        "    area = (f(a) + f(a+dx))*dx/2\n",
        "    suma = suma + area\n",
        "    a = a + dx\n",
        "print (\"el area es\", suma)"
      ],
      "metadata": {
        "colab": {
          "base_uri": "https://localhost:8080/"
        },
        "id": "gmPRMkiKXRZt",
        "outputId": "e03b8120-b981-4a7c-9363-373939b6fc71"
      },
      "execution_count": null,
      "outputs": [
        {
          "output_type": "stream",
          "name": "stdout",
          "text": [
            "el area es 0.0784723769992847\n"
          ]
        }
      ]
    }
  ]
}