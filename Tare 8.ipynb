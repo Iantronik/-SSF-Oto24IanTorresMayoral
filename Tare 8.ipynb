{
  "cells": [
    {
      "cell_type": "markdown",
      "metadata": {
        "id": "CuXnhScvktAv"
      },
      "source": [
        "1. Calcular la probabilidad de que al tomar un conjunto de 3 alumnos de un grupo de 40, los 3 sean mujeres, si sólo hay 9 mujeres en el grupo.\n",
        "2. Considere una clase de 100 alumnos. Asigne, de manera aleatoria, sus calificaciones entre 5 y 10. Suponga que su resultado sea típico.\n",
        "* Calcule el promedio y la varianza del experimento.\n",
        "* Repita el ejercicio 10 veces (10 cursos)\n",
        "\n",
        "3. De A2, calcular promedio y desviación estándar."
      ]
    },
    {
      "cell_type": "markdown",
      "metadata": {
        "id": "QtIFgP-GvsWr"
      },
      "source": [
        "Podemos calcular la probabilidad del ejercicio 1 a partir de una combinatoria; usando la probabilidad de eventos sin reemplazo."
      ]
    },
    {
      "cell_type": "code",
      "execution_count": null,
      "metadata": {
        "id": "9VYIehxwv3QH"
      },
      "outputs": [],
      "source": [
        "import math\n",
        "import numpy as np\n",
        "from numpy import random\n"
      ]
    },
    {
      "cell_type": "code",
      "execution_count": null,
      "metadata": {
        "colab": {
          "base_uri": "https://localhost:8080/"
        },
        "id": "9XSqrHOcv5X4",
        "outputId": "2260efc8-22fc-49f9-b6ef-5d6d116d98d3"
      },
      "outputs": [
        {
          "name": "stdout",
          "output_type": "stream",
          "text": [
            "Combinatoria de escoger 3 mujeres de 9: 84\n",
            "La probabilidad de que los 3 alumnos escogidos sean mujeres es de: 0.00850\n"
          ]
        }
      ],
      "source": [
        "#Datos iniciales\n",
        "t_alumnos= 40\n",
        "t_mujeres= 9\n",
        "#Definimos la función que nos ayudará a calcular la probabilidad de\n",
        "#que los 3 sean mujeres.\n",
        "def combinatoria(n,r):\n",
        "  return math.comb(n,r) #combinatoria\n",
        "#Selección de alumnos:\n",
        "seleccion = 3\n",
        "#Escribimos una combinatoria de escoger 3 de 9 mujeres\n",
        "m_escogidas = combinatoria(t_mujeres, seleccion)\n",
        "#realizamos una combinatoria entre el num de mujeres y la seleccion de alumnos\n",
        "print(f\"Combinatoria de escoger 3 mujeres de 9: {mujeres_escogidas}\")\n",
        "#Combinatoria de escoger 3 de 40 alumnos\n",
        "alumnost= combinatoria(t_alumnos, seleccion)\n",
        "\n",
        "#La probabilidad de que sean mujeres\n",
        "p_mujeres= m_escogidas/alumnost\n",
        "print(f\"La probabilidad de que los 3 alumnos escogidos sean mujeres es de: {p_mujeres:.5f}\" )"
      ]
    },
    {
      "cell_type": "markdown",
      "metadata": {
        "id": "Cnp7Fguiyyu5"
      },
      "source": [
        "B) Generamos aleatoriamente las calificaciones, calculamos el promedio y la varianza para cada conjunto de calificaciones, y repetimos este proceso 10 veces."
      ]
    },
    {
      "cell_type": "code",
      "execution_count": null,
      "metadata": {
        "colab": {
          "base_uri": "https://localhost:8080/"
        },
        "id": "WxRZusoSyrC6",
        "outputId": "45f800ca-5d02-4ed4-be49-bc990986b822"
      },
      "outputs": [
        {
          "name": "stdout",
          "output_type": "stream",
          "text": [
            "Curso 1: Promedio = 7.48, Varianza = 3.09\n",
            "Curso 2: Promedio = 7.35, Varianza = 2.53\n",
            "Curso 3: Promedio = 7.14, Varianza = 2.86\n",
            "Curso 4: Promedio = 7.78, Varianza = 2.39\n",
            "Curso 5: Promedio = 7.52, Varianza = 3.09\n",
            "Curso 6: Promedio = 7.28, Varianza = 3.02\n",
            "Curso 7: Promedio = 7.41, Varianza = 2.98\n",
            "Curso 8: Promedio = 7.64, Varianza = 2.35\n",
            "Curso 9: Promedio = 7.37, Varianza = 2.69\n",
            "Curso 10: Promedio = 7.49, Varianza = 3.03\n"
          ]
        }
      ],
      "source": [
        "#Asignamos calificaciones aleatorias entre 5 y 10\n",
        "def generar_calificaciones(num_alumnos):\n",
        "  minimo= 5\n",
        "  maximo= 10\n",
        "  return np.random.randint(minimo, maximo+1, size=num_alumnos)\n",
        "#Calculamos el promedio y varianza para una clase\n",
        "def estadistica_califs(calificaciones):\n",
        "  return np.mean(calificaciones), np.var(calificaciones)\n",
        "\n",
        "#Num de alumnos.\n",
        "n_alumnos=100\n",
        "#Guardar resultados de cada curso\n",
        "resultados= []\n",
        "\n",
        "for i in range(10): #Repetimos para los 10 cursos (bucle)\n",
        "  calificaciones= generar_calificaciones(n_alumnos)\n",
        "  promedio, varianza= estadistica_califs(calificaciones)\n",
        "  resultados.append((np.mean(calificaciones), np.var(calificaciones)))\n",
        "  print(f\"Curso {i+1}: Promedio = {promedio:.2f}, Varianza = {varianza:.2f}\")"
      ]
    },
    {
      "cell_type": "markdown",
      "metadata": {
        "id": "-TbYtrBM07L6"
      },
      "source": [
        "C) Tomaremos los promedios y varianzas de los 10 cursos y calculamos el promedio y la desviación estándar de estos valores."
      ]
    },
    {
      "cell_type": "code",
      "execution_count": null,
      "metadata": {
        "colab": {
          "base_uri": "https://localhost:8080/"
        },
        "id": "Wfu4lKE20_QU",
        "outputId": "afd5dbb9-c6dd-4f08-b3a4-52cd041ea771"
      },
      "outputs": [
        {
          "name": "stdout",
          "output_type": "stream",
          "text": [
            "Promedio de los promedios: 7.45\n",
            "Desviación estándar de los promedios: 0.17\n"
          ]
        }
      ],
      "source": [
        "#Calculamos promedio y desviación estándar de los promedios de los cursos.\n",
        "promedios= [resultado[0] for resultado in resultados]\n",
        "varianza= [resultado[1] for resultado in resultados]\n",
        "\n",
        "#Promedio de promedios\n",
        "promedio_promedios= np.mean(promedios)\n",
        "#Desviación estándar de los promedios\n",
        "desviacion_promedios= np.std(promedios)\n",
        "\n",
        "print(f\"Promedio de los promedios: {promedio_promedios:.2f}\")\n",
        "print(f\"Desviación estándar de los promedios: {desviacion_promedios:.2f}\")"
      ]
    }
  ],
  "metadata": {
    "colab": {
      "authorship_tag": "ABX9TyPKuSJaPuSowPYeQjJB0w6N",
      "include_colab_link": true,
      "provenance": []
    },
    "kernelspec": {
      "display_name": "Python 3",
      "name": "python3"
    },
    "language_info": {
      "name": "python",
      "version": "3.11.-1"
    }
  },
  "nbformat": 4,
  "nbformat_minor": 0
}
