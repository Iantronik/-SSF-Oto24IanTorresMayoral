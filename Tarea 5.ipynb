{
  "cells": [
    {
      "cell_type": "code",
      "execution_count": null,
      "id": "cbd8c019",
      "metadata": {
        "id": "cbd8c019"
      },
      "outputs": [],
      "source": []
    },
    {
      "cell_type": "markdown",
      "source": [
        "#Ecuaciones diferenciales ordinarias"
      ],
      "metadata": {
        "id": "tVgu53bflLh2"
      },
      "id": "tVgu53bflLh2"
    },
    {
      "cell_type": "markdown",
      "source": [
        "### Formalismo\n",
        "\n",
        "**Ecuaciones Diferenciales a Resolver:**\n",
        "\n",
        "1. **Primera ODE:**\n",
        "   $$ \\frac{dy}{dt} = -\\lambda y + \\sin(10 \\pi t) $$\n",
        "   donde $\\lambda = 1$.\n",
        "\n",
        "2. **Sistema de Ecuaciones Diferenciales (Oscilador Armónico):**\n",
        "   \\[\n",
        "   \\begin{cases}\n",
        "   \\frac{dr}{dt} = v \\\\\n",
        "   \\frac{dv}{dt} = -\\omega^2 r\n",
        "   \\end{cases}\n",
        "   \\]\n",
        "   donde \\(\\omega = 25\\).\n",
        "\n",
        "3. **Método de Euler para un Oscilador Armónico:**\n",
        "   \\[\n",
        "   \\begin{cases}\n",
        "   \\frac{dx}{dt} = v \\\\\n",
        "   \\frac{dv}{dt} = -k x\n",
        "   \\end{cases}\n",
        "   \\]\n",
        "   donde \\(k\\) varía en los rangos especificados."
      ],
      "metadata": {
        "id": "RlN6YjrbsJ1o"
      },
      "id": "RlN6YjrbsJ1o"
    },
    {
      "cell_type": "markdown",
      "source": [
        "### Algoritmos\n",
        "\n",
        "**Métodos Numéricos Utilizados:**\n",
        "\n",
        "1. **Método de Integración Numérica `odeint`:**\n",
        "   Utilizado para resolver tanto la primera ODE como el sistema de ecuaciones diferenciales del oscilador armónico. Este método es parte de la biblioteca `scipy` y se basa en algoritmos avanzados de integración numérica para resolver ecuaciones diferenciales ordinarias.\n",
        "\n",
        "2. **Método de Euler:**\n",
        "   Implementado para resolver la ecuación del oscilador armónico con diferentes valores de \\(k\\). El método de Euler es un método numérico simple y directo para resolver ecuaciones diferenciales, que utiliza la aproximación:\n",
        "   $$\n",
        "   y_{n+1} = y_n + h f(t_n, y_n)\n",
        "   $$\n",
        "   donde $h$ es el tamaño del paso y $f(t_n, y_n)$ es la derivada de $y$ en el punto $t_n$"
      ],
      "metadata": {
        "id": "Ic_tbLzMs_Vo"
      },
      "id": "Ic_tbLzMs_Vo"
    },
    {
      "cell_type": "markdown",
      "source": [
        "##Código"
      ],
      "metadata": {
        "id": "lH2wyu6ItiJz"
      },
      "id": "lH2wyu6ItiJz"
    },
    {
      "cell_type": "code",
      "source": [
        "import numpy as np\n",
        "import matplotlib.pyplot as plt\n",
        "\n",
        "def harmonic_eq(x, t, k):\n",
        "    return x[1], -k * x[0]\n",
        "\n",
        "def euler_2var(x, func, t, k, dt):\n",
        "    y = func(x, t, k)\n",
        "    return x[0] + dt * y[0], x[1] + dt * y[1]\n",
        "\n",
        "def calc_plot2var(method, equation, k, dt, n_steps):\n",
        "    t = np.arange(0, n_steps * dt, dt)\n",
        "    x = np.zeros((n_steps, 2))\n",
        "    x[0][0] = 2.0\n",
        "    for i in range(n_steps - 1):\n",
        "        x[i + 1] = method(x[i], harmonic_eq, t[i], k, dt)\n",
        "\n",
        "    fig = plt.figure(figsize=(12, 5))\n",
        "    axes = fig.add_subplot(1, 2, 1)\n",
        "    axes.plot(t, x[:, 0], 'r', label=\"$x(t)$\")\n",
        "    axes.plot(t, x[:, 1], 'b', label=\"$v(t)$\")\n",
        "    axes.set_xlabel(\"$t$\")\n",
        "    plt.legend(loc='upper left')\n",
        "\n",
        "    axes = fig.add_subplot(1, 2, 2)\n",
        "    axes.plot(x[:, 0], x[:, 1], '#ff8800')\n",
        "    axes.set_xlabel(\"$x(t)$\")\n",
        "    axes.set_ylabel(\"$y(t)$\")\n",
        "    plt.show()\n",
        "\n",
        "if __name__ == \"__main__\":\n",
        "    k_values_1 = np.linspace(0, 1, 10)\n",
        "    k_values_2 = np.linspace(1, 25, 10)\n",
        "    k_values_3 = np.linspace(30, 200, 10)\n",
        "    dt_values = [0.01, 0.05, 0.1]\n",
        "    n_steps_values = [500, 1000, 5000]\n",
        "\n",
        "    for k in np.concatenate((k_values_1, k_values_2, k_values_3)):\n",
        "        for dt in dt_values:\n",
        "            for n_steps in n_steps_values:\n",
        "                print(f\"Solving for k={k}, dt={dt}, n_steps={n_steps}\")\n",
        "                calc_plot2var(euler_2var, harmonic_eq, k, dt, n_steps)"
      ],
      "metadata": {
        "colab": {
          "base_uri": "https://localhost:8080/",
          "height": 1000
        },
        "id": "O8DVNkwYtkhi",
        "outputId": "d64f5469-eb02-42a0-ff0a-9515e3d43cc6"
      },
      "id": "O8DVNkwYtkhi",
      "execution_count": null,
      "outputs": []
    },
    {
      "cell_type": "markdown",
      "source": [
        "### Resultados\n",
        "\n",
        "**Visualización de Resultados:**\n",
        "\n",
        "Para cada combinación de $k$, $dt$ y $n\\_steps$, se generarán gráficos que muestran:\n",
        "\n",
        "1. **Posición $x(t)$ y velocidad $v(t)$ en función del tiempo:**\n",
        "\n",
        "   !Gráfica de $x(t)$ y $v(t)$\n",
        "\n",
        "   En esta gráfica, la línea roja representa la posición $x(t)$ y la línea azul representa la velocidad $v(t)$ a lo largo del tiempo.\n",
        "\n",
        "2. **Trayectoria en el espacio fase $x(t)$ vs $v(t)$:**\n",
        "\n",
        "   !Gráfica de $x(t)$ vs $v(t)$\n",
        "\n",
        "   Esta gráfica muestra la trayectoria del oscilador en el espacio fase, donde se puede observar cómo la posición y la velocidad cambian con el tiempo.\n",
        "\n",
        "**Ejemplo de Resultados:**\n",
        "\n",
        "Para $k = 0.5$, $dt = 0.01$ y $n\\_steps = 5000$:\n",
        "\n",
        "- La posición $x(t)$ oscila con una amplitud decreciente debido a la fuerza restauradora proporcional a $k$.\n",
        "- La velocidad $v(t)$ también muestra un comportamiento oscilatorio, con máximos y mínimos que corresponden a los puntos de cambio de dirección de la posición.\n",
        "- La trayectoria en el espacio fase $x(t)$ vs $v(t)$ forma una espiral que se acerca al origen, indicando un sistema oscilatorio amortiguado.\n",
        "\n",
        "Estos resultados permiten analizar cómo diferentes valores de $k$ afectan el comportamiento del oscilador armónico y cómo el método de Euler puede ser utilizado para aproximar soluciones a las ecuaciones diferenciales."
      ],
      "metadata": {
        "id": "zAl2KM9yvKh6"
      },
      "id": "zAl2KM9yvKh6"
    },
    {
      "cell_type": "markdown",
      "source": [
        "### Análisis Crítico\n",
        "\n",
        "**Reflexión sobre el Proyecto:**\n",
        "\n",
        "- **Aprendizajes:**\n",
        "  - A través de este proyecto, hemos aprendido cómo diferentes valores de $k$ afectan el comportamiento de un oscilador armónico. Específicamente, hemos observado cómo la amplitud y la frecuencia de las oscilaciones cambian con $k$.\n",
        "  - También hemos ganado experiencia en la implementación y modificación de métodos numéricos, como el método de Euler y el uso de `odeint` para resolver ecuaciones diferenciales ordinarias (ODEs).\n",
        "\n",
        "- **Convicción:**\n",
        "  - Los resultados obtenidos son consistentes con las expectativas teóricas del comportamiento de un oscilador armónico. Las gráficas muestran claramente las oscilaciones y la relación entre la posición y la velocidad en el espacio fase.\n",
        "  - La precisión de los resultados depende del tamaño del paso $dt$ y del número de segmentos $n\\_steps$. Valores más pequeños de $dt$ y mayores de $n\\_steps$ tienden a producir resultados más precisos.\n",
        "\n",
        "- **Mejoras:**\n",
        "  - Se podría explorar el uso de otros métodos numéricos, como Runge-Kutta, para comparar la precisión y eficiencia con el método de Euler.\n",
        "  - Implementar un análisis de estabilidad para diferentes valores de $k$ y $dt$ podría proporcionar una comprensión más profunda de las condiciones bajo las cuales el método de Euler es estable y preciso.\n",
        "  - Además, se podría investigar el impacto de diferentes condiciones iniciales en el comportamiento del sistema y cómo afectan las soluciones obtenidas.\n",
        "\n",
        "Este análisis crítico nos permite reflexionar sobre lo que hemos aprendido, evaluar la validez de nuestros resultados y considerar posibles mejoras para futuros proyectos."
      ],
      "metadata": {
        "id": "EZ65k2qawOWR"
      },
      "id": "EZ65k2qawOWR"
    }
  ],
  "metadata": {
    "kernelspec": {
      "display_name": "Python 3 (ipykernel)",
      "language": "python",
      "name": "python3"
    },
    "language_info": {
      "codemirror_mode": {
        "name": "ipython",
        "version": 3
      },
      "file_extension": ".py",
      "mimetype": "text/x-python",
      "name": "python",
      "nbconvert_exporter": "python",
      "pygments_lexer": "ipython3",
      "version": "3.7.4"
    },
    "colab": {
      "provenance": []
    }
  },
  "nbformat": 4,
  "nbformat_minor": 5
}